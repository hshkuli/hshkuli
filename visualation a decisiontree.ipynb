{
 "cells": [
  {
   "cell_type": "code",
   "execution_count": 16,
   "id": "355a2456",
   "metadata": {},
   "outputs": [],
   "source": [
    "import pandas as pd               # library for initializating data\n",
    "from sklearn.tree import DecisionTreeClassifier   # import a model of algoritm\n",
    "from sklearn import tree  #this object has a method for exporting decision tree in a graphical format\n",
    "music_data = pd.read_csv('music.csv')   #import data\n",
    "X = music_data.drop(columns = ['genre'])    # this returns a data frame similar to an excel spreadsheet\n",
    "Y = music_data['genre']                    # using `[]` we can get all the values in a given\n",
    "\n",
    "model = DecisionTreeClassifier()           #create a new instance of this class\n",
    "model.fit(X, Y)                                #train a model with input and output set\n",
    "\n",
    "tree.export_graphviz(model, out_file = 'music-recommender.dot', \n",
    "                    feature_names = ['age', 'gender'], \n",
    "                    class_names = sorted(Y.unique()), \n",
    "                    label = 'all', \n",
    "                    rounded = True, \n",
    "                    filled = True)"
   ]
  }
 ],
 "metadata": {
  "kernelspec": {
   "display_name": "Python 3 (ipykernel)",
   "language": "python",
   "name": "python3"
  },
  "language_info": {
   "codemirror_mode": {
    "name": "ipython",
    "version": 3
   },
   "file_extension": ".py",
   "mimetype": "text/x-python",
   "name": "python",
   "nbconvert_exporter": "python",
   "pygments_lexer": "ipython3",
   "version": "3.11.5"
  }
 },
 "nbformat": 4,
 "nbformat_minor": 5
}
