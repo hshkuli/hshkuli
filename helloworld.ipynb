{
 "cells": [
  {
   "cell_type": "code",
   "execution_count": 12,
   "id": "d2331289",
   "metadata": {},
   "outputs": [
    {
     "data": {
      "text/plain": [
       "1.0"
      ]
     },
     "execution_count": 12,
     "metadata": {},
     "output_type": "execute_result"
    }
   ],
   "source": [
    "import pandas as pd               # library for initializating data\n",
    "from sklearn.tree import DecisionTreeClassifier   # import a model of algoritm\n",
    "from sklearn.model_selection import train_test_split  #you can use them to split data into training sets and test sets.\n",
    "from sklearn.metrics import accuracy_score\n",
    "# df = pd.read_csv('vgsales.csv')   #load file data\n",
    "# df                                #show rows and columns from file\n",
    "# df.shape                           #(16598, 11)\n",
    "# df.describe()                       #show detals of table\n",
    "# df.values                             #show values of table\n",
    "music_data = pd.read_csv('music.csv')   #import data\n",
    "X = music_data.drop(columns = ['genre'])    # this returns a data frame similar to an excel spreadsheet\n",
    "Y = music_data['genre']                    # using `[]` we can get all the values in a given\n",
    "X_train, X_test, Y_train, Y_test = train_test_split(X,Y, test_size = 0.2)     #allocating 20% of data for testing; 2 first for input and nest 2 variable for out put\n",
    "\n",
    "model = DecisionTreeClassifier()           #create a new instance of this class\n",
    "model.fit(X_train, Y_train)                                #train a model with input and output set\n",
    "predictions = model.predict(X_test)   #The data from the target prediction column used in the model consisted of only 1 or 0\n",
    "score = accuracy_score(Y_test, predictions)   #involve expected values with prediction(contain actual values)value called by this function a\n",
    "score"
   ]
  }
 ],
 "metadata": {
  "kernelspec": {
   "display_name": "Python 3 (ipykernel)",
   "language": "python",
   "name": "python3"
  },
  "language_info": {
   "codemirror_mode": {
    "name": "ipython",
    "version": 3
   },
   "file_extension": ".py",
   "mimetype": "text/x-python",
   "name": "python",
   "nbconvert_exporter": "python",
   "pygments_lexer": "ipython3",
   "version": "3.11.5"
  }
 },
 "nbformat": 4,
 "nbformat_minor": 5
}
