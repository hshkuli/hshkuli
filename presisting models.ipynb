{
 "cells": [
  {
   "cell_type": "code",
   "execution_count": 14,
   "id": "ead23b36",
   "metadata": {},
   "outputs": [
    {
     "data": {
      "text/plain": [
       "['music-recommender.joblib']"
      ]
     },
     "execution_count": 14,
     "metadata": {},
     "output_type": "execute_result"
    }
   ],
   "source": [
    "import pandas as pd               # library for initializating data\n",
    "from sklearn.tree import DecisionTreeClassifier   # import a model of algoritm\n",
    "import joblib   #This article explains you how to save and load machine learning models in Python using Joblib Library for Data Science Projects.\n",
    "# df = pd.read_csv('vgsales.csv')   #load file data\n",
    "# df                                #show rows and columns from file\n",
    "# df.shape                           #(16598, 11)\n",
    "# df.describe()                       #show detals of table\n",
    "# df.values                             #show values of table\n",
    "# music_data = pd.read_csv('music.csv')   #import data\n",
    "# X = music_data.drop(columns = ['genre'])    # this returns a data frame similar to an excel spreadsheet\n",
    "# Y = music_data['genre']                    # using `[]` we can get all the values in a given\n",
    "\n",
    "# model = DecisionTreeClassifier()           #create a new instance of this class\n",
    "# model.fit(X, Y)                                #train a model with input and output set\n",
    "\n",
    "# joblib.dump(model, 'music-recommender.joblib')   #You will need to either save your file with an absolute path, or set\n",
    "model = joblib.load('music-recommender.joblib')\n",
    "predictions = model.predict([[21, 1]])   #The data from the target prediction column used in the model consisted of only 1 or 0\n",
    "predictions"
   ]
  }
 ],
 "metadata": {
  "kernelspec": {
   "display_name": "Python 3 (ipykernel)",
   "language": "python",
   "name": "python3"
  },
  "language_info": {
   "codemirror_mode": {
    "name": "ipython",
    "version": 3
   },
   "file_extension": ".py",
   "mimetype": "text/x-python",
   "name": "python",
   "nbconvert_exporter": "python",
   "pygments_lexer": "ipython3",
   "version": "3.11.5"
  }
 },
 "nbformat": 4,
 "nbformat_minor": 5
}
